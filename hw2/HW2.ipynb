{
 "cells": [
  {
   "cell_type": "code",
   "execution_count": 129,
   "metadata": {
    "collapsed": false
   },
   "outputs": [
    {
     "data": {
      "text/html": [
       "<div>\n",
       "<table border=\"1\" class=\"dataframe\">\n",
       "  <thead>\n",
       "    <tr style=\"text-align: right;\">\n",
       "      <th></th>\n",
       "      <th>x</th>\n",
       "      <th>y</th>\n",
       "      <th>res</th>\n",
       "      <th>perm</th>\n",
       "    </tr>\n",
       "  </thead>\n",
       "  <tbody>\n",
       "    <tr>\n",
       "      <th>1</th>\n",
       "      <td>15</td>\n",
       "      <td>60</td>\n",
       "      <td>249.17</td>\n",
       "      <td>489.67</td>\n",
       "    </tr>\n",
       "    <tr>\n",
       "      <th>2</th>\n",
       "      <td>15</td>\n",
       "      <td>75</td>\n",
       "      <td>243.93</td>\n",
       "      <td>457.78</td>\n",
       "    </tr>\n",
       "    <tr>\n",
       "      <th>3</th>\n",
       "      <td>18</td>\n",
       "      <td>27</td>\n",
       "      <td>249.13</td>\n",
       "      <td>360.07</td>\n",
       "    </tr>\n",
       "    <tr>\n",
       "      <th>4</th>\n",
       "      <td>18</td>\n",
       "      <td>84</td>\n",
       "      <td>247.02</td>\n",
       "      <td>473.68</td>\n",
       "    </tr>\n",
       "  </tbody>\n",
       "</table>\n",
       "</div>"
      ],
      "text/plain": [
       "    x   y     res    perm\n",
       "1  15  60  249.17  489.67\n",
       "2  15  75  243.93  457.78\n",
       "3  18  27  249.13  360.07\n",
       "4  18  84  247.02  473.68"
      ]
     },
     "execution_count": 129,
     "metadata": {},
     "output_type": "execute_result"
    }
   ],
   "source": [
    "import pandas as pd #Data Frames\n",
    "import numpy as np  #Basic Math Commands\n",
    "import matplotlib.pyplot as plt\n",
    "nicered = \"#E6072A\"\n",
    "niceblu = \"#424FA4\"\n",
    "nicegrn = \"#6DC048\"\n",
    "\n",
    "#import data set into R like data frame\n",
    "burea = pd.read_csv('burea_subset.csv')\n",
    "#look at first few rows of data set\n",
    "burea.columns = (['x','y','res','perm'])\n",
    "burea[1:5]\n"
   ]
  },
  {
   "cell_type": "code",
   "execution_count": 63,
   "metadata": {
    "collapsed": false
   },
   "outputs": [],
   "source": [
    "#Calculate Covariance\n",
    "\n",
    "def covariance(x, y):\n",
    "    m_x = np.mean(x) # Mean X\n",
    "    m_y = np.mean(y) # Mean Y\n",
    "    N = len(x) * 1.0 # convert to float\n",
    "    if N != len(y):\n",
    "        print \"Warning: Covariance cannot be calculated on series of unequal length\"\n",
    "    cov = 0\n",
    "    for (x_i, y_i) in zip(x,y):\n",
    "        cov += (x_i - m_x)*(y_i - m_y)\n",
    "        # print x_i, y_i\n",
    "    return cov / (N-1)\n",
    "    "
   ]
  },
  {
   "cell_type": "code",
   "execution_count": 75,
   "metadata": {
    "collapsed": false
   },
   "outputs": [],
   "source": [
    "#Calculate Pearson's Correlation Coefficient\n",
    "\n",
    "def pearsonr(x, y):\n",
    "    cov = covariance(x,y)\n",
    "    std_x = np.std(x, ddof=1) #calculate standard deviations, using built in formula \n",
    "    std_y = np.std(y, ddof=1) #set degrees of freedom to 1 to line upw ith matlab\n",
    "    return cov / (std_x * std_y)\n"
   ]
  },
  {
   "cell_type": "markdown",
   "metadata": {},
   "source": [
    "#### 1) Scatterplot for resisitivity and permeability"
   ]
  },
  {
   "cell_type": "code",
   "execution_count": 141,
   "metadata": {
    "collapsed": false
   },
   "outputs": [
    {
     "name": "stdout",
     "output_type": "stream",
     "text": [
      "Pearson's Correlation coefficient  -0.420595888765\n",
      "Covariance  -90.5312955977\n"
     ]
    },
    {
     "data": {
      "image/png": "[encoded data removed]",
      "text/plain": [
       "<matplotlib.figure.Figure at 0x10c210e90>"
      ]
     },
     "metadata": {},
     "output_type": "display_data"
    }
   ],
   "source": [
    "%matplotlib inline\n",
    "fig = plt.figure()\n",
    "ax = fig.add_subplot(111)\n",
    "ax.plot(burea['res'],burea['perm'], \"o\", color=niceblu)\n",
    "ax.set_xlabel(\"Resistivity (ohm-m)\")\n",
    "ax.set_ylabel(\"Permeability (mD)\")\n",
    "ax.set_title(\"Burea Sandstone Data\", fontsize=12)\n",
    "plt.hold\n",
    "\n",
    "rho = pearsonr(burea['res'],burea['perm'])\n",
    "print \"Pearson's Correlation coefficient \", rho\n",
    "print \"Covariance \", covariance(burea['res'],burea['perm'])\n"
   ]
  },
  {
   "cell_type": "code",
   "execution_count": null,
   "metadata": {
    "collapsed": true
   },
   "outputs": [],
   "source": []
  }
 ],
 "metadata": {
  "kernelspec": {
   "display_name": "Python 2",
   "language": "python",
   "name": "python2"
  },
  "language_info": {
   "codemirror_mode": {
    "name": "ipython",
    "version": 2
   },
   "file_extension": ".py",
   "mimetype": "text/x-python",
   "name": "python",
   "nbconvert_exporter": "python",
   "pygments_lexer": "ipython2",
   "version": "2.7.11"
  }
 },
 "nbformat": 4,
 "nbformat_minor": 0
}
